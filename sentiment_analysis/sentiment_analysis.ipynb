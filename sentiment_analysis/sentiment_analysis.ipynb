{
 "cells": [
  {
   "cell_type": "markdown",
   "metadata": {},
   "source": [
    "# Sentiment Analysis"
   ]
  },
  {
   "cell_type": "markdown",
   "metadata": {},
   "source": [
    "### Import dependencies"
   ]
  },
  {
   "cell_type": "code",
   "execution_count": 1,
   "metadata": {},
   "outputs": [],
   "source": [
    "import pandas as pd\n",
    "import numpy as np\n",
    "from sklearn.metrics import confusion_matrix, classification_report\n",
    "import matplotlib.pyplot as plt\n",
    "import torch\n",
    "from transformers import AutoTokenizer, AutoModelForSequenceClassification\n",
    "import requests\n",
    "from bs4 import BeautifulSoup\n",
    "import re\n",
    "from math import ceil"
   ]
  },
  {
   "cell_type": "markdown",
   "metadata": {},
   "source": [
    "### Load model"
   ]
  },
  {
   "cell_type": "code",
   "execution_count": 2,
   "metadata": {},
   "outputs": [],
   "source": [
    "tokenizer = AutoTokenizer.from_pretrained(\"nlptown/bert-base-multilingual-uncased-sentiment\")\n",
    "model = AutoModelForSequenceClassification.from_pretrained(\"nlptown/bert-base-multilingual-uncased-sentiment\")"
   ]
  },
  {
   "cell_type": "markdown",
   "metadata": {},
   "source": [
    "### Collect data"
   ]
  },
  {
   "cell_type": "code",
   "execution_count": 3,
   "metadata": {},
   "outputs": [],
   "source": [
    "def collect_review(soup):\n",
    "\n",
    "    regex_date = re.compile('.*ratingDate*')\n",
    "    results_date = soup.find_all('span', {'class': regex_date})\n",
    "\n",
    "    regex_title = re.compile('.*noQuotes*')\n",
    "    results_title = soup.find_all('span', {'class':regex_title})\n",
    "\n",
    "    regex_comment = re.compile('.*partial_entry.*')\n",
    "    results_comment = soup.find_all('p', {'class':regex_comment})\n",
    "\n",
    "    review_date_list = []\n",
    "    user_rating_list = []\n",
    "    review_title_list = []\n",
    "    review_list = []\n",
    "    \n",
    "    for date, title, review in zip(results_date, results_title, results_comment):\n",
    "        # Extract the review date\n",
    "        review_date = date.get('title')\n",
    "        review_date_list.append(review_date)\n",
    "\n",
    "        # Find the user rating just before the review date\n",
    "        user_rating = date.find_previous('span', {'class': 'ui_bubble_rating'})\n",
    "        rating = int(int(user_rating['class'][1].split('_')[-1]) / 10)\n",
    "        user_rating_list.append(rating)\n",
    "\n",
    "        # Extract the review title\n",
    "        result_title = title.text\n",
    "        review_title_list.append(result_title)\n",
    "\n",
    "        # Extract the review\n",
    "\n",
    "        result_review = review.text\n",
    "        review_list.append(result_review)\n",
    "    \n",
    "    reviews = {'review_date': review_date_list, \n",
    "            'user_rating' : user_rating_list,\n",
    "            'review_title' : review_title_list,\n",
    "            'review' : review_list}\n",
    "    \n",
    "    return reviews"
   ]
  },
  {
   "cell_type": "code",
   "execution_count": 4,
   "metadata": {},
   "outputs": [],
   "source": [
    "def get_soup(url):\n",
    "    headers = {\n",
    "    'User-Agent' : 'Mozilla/5.0 (Macintosh; Intel Mac OS X 10_15_7) AppleWebKit/537.36 (KHTML, like Gecko) Chrome/115.0.0.0 Safari/537.36',\n",
    "    'Accept-Language' : 'en-US,en;q=0.9',\n",
    "    'Referer' : 'https://google.com',\n",
    "    'DNT' : '1'\n",
    "    }\n",
    "    response = requests.get(url, headers=headers)\n",
    "    #print(response.status_code)\n",
    "    if (response.status_code!=200):\n",
    "        return None\n",
    "    soup = BeautifulSoup(response.text, 'html.parser')\n",
    "    return soup"
   ]
  },
  {
   "cell_type": "code",
   "execution_count": 5,
   "metadata": {},
   "outputs": [],
   "source": [
    "def combine_dicts(dict1, dict2):\n",
    "    combined_dicts = {}\n",
    "\n",
    "    for key in dict1.keys():\n",
    "        combined_dicts[key] = dict1[key]+dict2[key]\n",
    "    \n",
    "    return combined_dicts"
   ]
  },
  {
   "cell_type": "code",
   "execution_count": 6,
   "metadata": {},
   "outputs": [],
   "source": [
    "def get_reviews(base_url, max_reviews=15):\n",
    "    pattern = r'(https?://[^/]+)(/Restaurant_Review-g\\d+-d\\d+-Reviews-)(.*)'\n",
    "    url_split = re.search(pattern, base_url)\n",
    "\n",
    "    website = url_split.group(1)\n",
    "    path_part_a = url_split.group(2)\n",
    "    path_part_b = url_split.group(3)\n",
    "\n",
    "    if path_part_b[:2]=='or':\n",
    "        pattern2 = r'(or\\d+-)(.*)'\n",
    "        split2 = re.search(pattern2, path_part_b)\n",
    "        path_part_b = split2.group(2)\n",
    "    \n",
    "\n",
    "    reviews = {'review_date': [], \n",
    "            'user_rating' : [],\n",
    "            'review_title' : [],\n",
    "            'review' : []}\n",
    "\n",
    "    for i in range(ceil(max_reviews/15)):\n",
    "        if i==0:\n",
    "            url = website+path_part_a+path_part_b\n",
    "        else:\n",
    "            url = website+path_part_a+'or{}-'.format(i*15)+path_part_b\n",
    "        \n",
    "        soup = get_soup(url)\n",
    "        if soup == None:\n",
    "            return reviews\n",
    "        else:\n",
    "            reviews = combine_dicts(reviews, collect_review(soup))\n",
    "    \n",
    "    return reviews"
   ]
  },
  {
   "cell_type": "code",
   "execution_count": 7,
   "metadata": {},
   "outputs": [],
   "source": [
    "url = 'https://www.tripadvisor.in/Restaurant_Review-g297635-d1205738-Reviews-Hotel_Paragon_Restaurant-Kozhikode_Kozhikode_District_Kerala.html'\n",
    "max_reviews = 300\n",
    "\n",
    "reviews_df = pd.DataFrame(get_reviews(url, max_reviews))"
   ]
  },
  {
   "cell_type": "code",
   "execution_count": 8,
   "metadata": {},
   "outputs": [
    {
     "data": {
      "text/html": [
       "<div>\n",
       "<style scoped>\n",
       "    .dataframe tbody tr th:only-of-type {\n",
       "        vertical-align: middle;\n",
       "    }\n",
       "\n",
       "    .dataframe tbody tr th {\n",
       "        vertical-align: top;\n",
       "    }\n",
       "\n",
       "    .dataframe thead th {\n",
       "        text-align: right;\n",
       "    }\n",
       "</style>\n",
       "<table border=\"1\" class=\"dataframe\">\n",
       "  <thead>\n",
       "    <tr style=\"text-align: right;\">\n",
       "      <th></th>\n",
       "      <th>review_date</th>\n",
       "      <th>user_rating</th>\n",
       "      <th>review_title</th>\n",
       "      <th>review</th>\n",
       "    </tr>\n",
       "  </thead>\n",
       "  <tbody>\n",
       "    <tr>\n",
       "      <th>0</th>\n",
       "      <td>31 July 2023</td>\n",
       "      <td>4</td>\n",
       "      <td>Timeless Charm, Excellent Service, Amazing Foo...</td>\n",
       "      <td>One of the oldest restaurants in town, I was i...</td>\n",
       "    </tr>\n",
       "    <tr>\n",
       "      <th>1</th>\n",
       "      <td>31 May 2023</td>\n",
       "      <td>5</td>\n",
       "      <td>Great place for non-veg Kerala food in Kozhiko...</td>\n",
       "      <td>Been here for breakfast and late lunch on our ...</td>\n",
       "    </tr>\n",
       "    <tr>\n",
       "      <th>2</th>\n",
       "      <td>15 May 2023</td>\n",
       "      <td>5</td>\n",
       "      <td>Best restaurant since 1939</td>\n",
       "      <td>Paragon is a Kozhikode institution with an unm...</td>\n",
       "    </tr>\n",
       "    <tr>\n",
       "      <th>3</th>\n",
       "      <td>26 April 2023</td>\n",
       "      <td>4</td>\n",
       "      <td>Very good to check out Indian cuisine</td>\n",
       "      <td>Indeed very good food (at a price). Went here ...</td>\n",
       "    </tr>\n",
       "    <tr>\n",
       "      <th>4</th>\n",
       "      <td>1 April 2023</td>\n",
       "      <td>2</td>\n",
       "      <td>Lunch at Paragon Kozhikkode</td>\n",
       "      <td>Went for lunch with family . A very crowded pl...</td>\n",
       "    </tr>\n",
       "    <tr>\n",
       "      <th>...</th>\n",
       "      <td>...</td>\n",
       "      <td>...</td>\n",
       "      <td>...</td>\n",
       "      <td>...</td>\n",
       "    </tr>\n",
       "    <tr>\n",
       "      <th>295</th>\n",
       "      <td>6 September 2017</td>\n",
       "      <td>5</td>\n",
       "      <td>Re - Paragon Calicut</td>\n",
       "      <td>Ambiance is good and staff is courteous same a...</td>\n",
       "    </tr>\n",
       "    <tr>\n",
       "      <th>296</th>\n",
       "      <td>6 September 2017</td>\n",
       "      <td>5</td>\n",
       "      <td>Superb quality food</td>\n",
       "      <td>My target was to have a great lunch \"non-veg b...</td>\n",
       "    </tr>\n",
       "    <tr>\n",
       "      <th>297</th>\n",
       "      <td>6 September 2017</td>\n",
       "      <td>3</td>\n",
       "      <td>Good non veg restaurant</td>\n",
       "      <td>This is a very famous and old and we'll establ...</td>\n",
       "    </tr>\n",
       "    <tr>\n",
       "      <th>298</th>\n",
       "      <td>6 September 2017</td>\n",
       "      <td>5</td>\n",
       "      <td>Lovely food</td>\n",
       "      <td>Very interesting unique food.it is really good...</td>\n",
       "    </tr>\n",
       "    <tr>\n",
       "      <th>299</th>\n",
       "      <td>6 September 2017</td>\n",
       "      <td>5</td>\n",
       "      <td>Home away from Home</td>\n",
       "      <td>One can feel that you have reached the right p...</td>\n",
       "    </tr>\n",
       "  </tbody>\n",
       "</table>\n",
       "<p>300 rows × 4 columns</p>\n",
       "</div>"
      ],
      "text/plain": [
       "          review_date  user_rating  \\\n",
       "0        31 July 2023            4   \n",
       "1         31 May 2023            5   \n",
       "2         15 May 2023            5   \n",
       "3       26 April 2023            4   \n",
       "4        1 April 2023            2   \n",
       "..                ...          ...   \n",
       "295  6 September 2017            5   \n",
       "296  6 September 2017            5   \n",
       "297  6 September 2017            3   \n",
       "298  6 September 2017            5   \n",
       "299  6 September 2017            5   \n",
       "\n",
       "                                          review_title  \\\n",
       "0    Timeless Charm, Excellent Service, Amazing Foo...   \n",
       "1    Great place for non-veg Kerala food in Kozhiko...   \n",
       "2                           Best restaurant since 1939   \n",
       "3                Very good to check out Indian cuisine   \n",
       "4                         Lunch at Paragon Kozhikkode    \n",
       "..                                                 ...   \n",
       "295                               Re - Paragon Calicut   \n",
       "296                                Superb quality food   \n",
       "297                            Good non veg restaurant   \n",
       "298                                        Lovely food   \n",
       "299                                Home away from Home   \n",
       "\n",
       "                                                review  \n",
       "0    One of the oldest restaurants in town, I was i...  \n",
       "1    Been here for breakfast and late lunch on our ...  \n",
       "2    Paragon is a Kozhikode institution with an unm...  \n",
       "3    Indeed very good food (at a price). Went here ...  \n",
       "4    Went for lunch with family . A very crowded pl...  \n",
       "..                                                 ...  \n",
       "295  Ambiance is good and staff is courteous same a...  \n",
       "296  My target was to have a great lunch \"non-veg b...  \n",
       "297  This is a very famous and old and we'll establ...  \n",
       "298  Very interesting unique food.it is really good...  \n",
       "299  One can feel that you have reached the right p...  \n",
       "\n",
       "[300 rows x 4 columns]"
      ]
     },
     "execution_count": 8,
     "metadata": {},
     "output_type": "execute_result"
    }
   ],
   "source": [
    "reviews_df"
   ]
  },
  {
   "cell_type": "code",
   "execution_count": 9,
   "metadata": {},
   "outputs": [],
   "source": [
    "# Save reviews\n",
    "csv_file = 'paragon_reviews_300.csv'\n",
    "reviews_df.to_csv(csv_file, index=False, quotechar='\"', quoting=1)"
   ]
  },
  {
   "cell_type": "markdown",
   "metadata": {},
   "source": [
    "### Predict sentiments"
   ]
  },
  {
   "cell_type": "code",
   "execution_count": 10,
   "metadata": {},
   "outputs": [],
   "source": [
    "def bert_sentiment(review):\n",
    "    tokens = tokenizer.encode(review, return_tensors='pt')\n",
    "    result = model(tokens)\n",
    "    return int(torch.argmax(result.logits))+1"
   ]
  },
  {
   "cell_type": "code",
   "execution_count": 11,
   "metadata": {},
   "outputs": [],
   "source": [
    "reviews_df['HF_BERT_sentiment'] = (reviews_df['review_title'] + '. ' + reviews_df['review']).apply(lambda x: bert_sentiment(x[:512]))"
   ]
  },
  {
   "cell_type": "code",
   "execution_count": 12,
   "metadata": {},
   "outputs": [
    {
     "data": {
      "text/html": [
       "<div>\n",
       "<style scoped>\n",
       "    .dataframe tbody tr th:only-of-type {\n",
       "        vertical-align: middle;\n",
       "    }\n",
       "\n",
       "    .dataframe tbody tr th {\n",
       "        vertical-align: top;\n",
       "    }\n",
       "\n",
       "    .dataframe thead th {\n",
       "        text-align: right;\n",
       "    }\n",
       "</style>\n",
       "<table border=\"1\" class=\"dataframe\">\n",
       "  <thead>\n",
       "    <tr style=\"text-align: right;\">\n",
       "      <th></th>\n",
       "      <th>review_date</th>\n",
       "      <th>user_rating</th>\n",
       "      <th>review_title</th>\n",
       "      <th>review</th>\n",
       "      <th>HF_BERT_sentiment</th>\n",
       "    </tr>\n",
       "  </thead>\n",
       "  <tbody>\n",
       "    <tr>\n",
       "      <th>0</th>\n",
       "      <td>31 July 2023</td>\n",
       "      <td>4</td>\n",
       "      <td>Timeless Charm, Excellent Service, Amazing Foo...</td>\n",
       "      <td>One of the oldest restaurants in town, I was i...</td>\n",
       "      <td>5</td>\n",
       "    </tr>\n",
       "    <tr>\n",
       "      <th>1</th>\n",
       "      <td>31 May 2023</td>\n",
       "      <td>5</td>\n",
       "      <td>Great place for non-veg Kerala food in Kozhiko...</td>\n",
       "      <td>Been here for breakfast and late lunch on our ...</td>\n",
       "      <td>5</td>\n",
       "    </tr>\n",
       "    <tr>\n",
       "      <th>2</th>\n",
       "      <td>15 May 2023</td>\n",
       "      <td>5</td>\n",
       "      <td>Best restaurant since 1939</td>\n",
       "      <td>Paragon is a Kozhikode institution with an unm...</td>\n",
       "      <td>5</td>\n",
       "    </tr>\n",
       "    <tr>\n",
       "      <th>3</th>\n",
       "      <td>26 April 2023</td>\n",
       "      <td>4</td>\n",
       "      <td>Very good to check out Indian cuisine</td>\n",
       "      <td>Indeed very good food (at a price). Went here ...</td>\n",
       "      <td>5</td>\n",
       "    </tr>\n",
       "    <tr>\n",
       "      <th>4</th>\n",
       "      <td>1 April 2023</td>\n",
       "      <td>2</td>\n",
       "      <td>Lunch at Paragon Kozhikkode</td>\n",
       "      <td>Went for lunch with family . A very crowded pl...</td>\n",
       "      <td>3</td>\n",
       "    </tr>\n",
       "    <tr>\n",
       "      <th>...</th>\n",
       "      <td>...</td>\n",
       "      <td>...</td>\n",
       "      <td>...</td>\n",
       "      <td>...</td>\n",
       "      <td>...</td>\n",
       "    </tr>\n",
       "    <tr>\n",
       "      <th>295</th>\n",
       "      <td>6 September 2017</td>\n",
       "      <td>5</td>\n",
       "      <td>Re - Paragon Calicut</td>\n",
       "      <td>Ambiance is good and staff is courteous same a...</td>\n",
       "      <td>4</td>\n",
       "    </tr>\n",
       "    <tr>\n",
       "      <th>296</th>\n",
       "      <td>6 September 2017</td>\n",
       "      <td>5</td>\n",
       "      <td>Superb quality food</td>\n",
       "      <td>My target was to have a great lunch \"non-veg b...</td>\n",
       "      <td>5</td>\n",
       "    </tr>\n",
       "    <tr>\n",
       "      <th>297</th>\n",
       "      <td>6 September 2017</td>\n",
       "      <td>3</td>\n",
       "      <td>Good non veg restaurant</td>\n",
       "      <td>This is a very famous and old and we'll establ...</td>\n",
       "      <td>4</td>\n",
       "    </tr>\n",
       "    <tr>\n",
       "      <th>298</th>\n",
       "      <td>6 September 2017</td>\n",
       "      <td>5</td>\n",
       "      <td>Lovely food</td>\n",
       "      <td>Very interesting unique food.it is really good...</td>\n",
       "      <td>5</td>\n",
       "    </tr>\n",
       "    <tr>\n",
       "      <th>299</th>\n",
       "      <td>6 September 2017</td>\n",
       "      <td>5</td>\n",
       "      <td>Home away from Home</td>\n",
       "      <td>One can feel that you have reached the right p...</td>\n",
       "      <td>5</td>\n",
       "    </tr>\n",
       "  </tbody>\n",
       "</table>\n",
       "<p>300 rows × 5 columns</p>\n",
       "</div>"
      ],
      "text/plain": [
       "          review_date  user_rating  \\\n",
       "0        31 July 2023            4   \n",
       "1         31 May 2023            5   \n",
       "2         15 May 2023            5   \n",
       "3       26 April 2023            4   \n",
       "4        1 April 2023            2   \n",
       "..                ...          ...   \n",
       "295  6 September 2017            5   \n",
       "296  6 September 2017            5   \n",
       "297  6 September 2017            3   \n",
       "298  6 September 2017            5   \n",
       "299  6 September 2017            5   \n",
       "\n",
       "                                          review_title  \\\n",
       "0    Timeless Charm, Excellent Service, Amazing Foo...   \n",
       "1    Great place for non-veg Kerala food in Kozhiko...   \n",
       "2                           Best restaurant since 1939   \n",
       "3                Very good to check out Indian cuisine   \n",
       "4                         Lunch at Paragon Kozhikkode    \n",
       "..                                                 ...   \n",
       "295                               Re - Paragon Calicut   \n",
       "296                                Superb quality food   \n",
       "297                            Good non veg restaurant   \n",
       "298                                        Lovely food   \n",
       "299                                Home away from Home   \n",
       "\n",
       "                                                review  HF_BERT_sentiment  \n",
       "0    One of the oldest restaurants in town, I was i...                  5  \n",
       "1    Been here for breakfast and late lunch on our ...                  5  \n",
       "2    Paragon is a Kozhikode institution with an unm...                  5  \n",
       "3    Indeed very good food (at a price). Went here ...                  5  \n",
       "4    Went for lunch with family . A very crowded pl...                  3  \n",
       "..                                                 ...                ...  \n",
       "295  Ambiance is good and staff is courteous same a...                  4  \n",
       "296  My target was to have a great lunch \"non-veg b...                  5  \n",
       "297  This is a very famous and old and we'll establ...                  4  \n",
       "298  Very interesting unique food.it is really good...                  5  \n",
       "299  One can feel that you have reached the right p...                  5  \n",
       "\n",
       "[300 rows x 5 columns]"
      ]
     },
     "execution_count": 12,
     "metadata": {},
     "output_type": "execute_result"
    }
   ],
   "source": [
    "reviews_df"
   ]
  },
  {
   "cell_type": "markdown",
   "metadata": {},
   "source": [
    "### Comparison with Rules-based Sentiment Analysis\n",
    "\n",
    "We can check the predictions made by `TextBlob` and `VADER` for comparison"
   ]
  },
  {
   "cell_type": "markdown",
   "metadata": {},
   "source": [
    "#### `TextBlob`"
   ]
  },
  {
   "cell_type": "code",
   "execution_count": 13,
   "metadata": {},
   "outputs": [],
   "source": [
    "from textblob import TextBlob"
   ]
  },
  {
   "cell_type": "code",
   "execution_count": 14,
   "metadata": {},
   "outputs": [],
   "source": [
    "def textblob_sentiment(review):\n",
    "    return round((TextBlob(review).sentiment.polarity*2)+3)"
   ]
  },
  {
   "cell_type": "markdown",
   "metadata": {},
   "source": [
    "#### `VADER`"
   ]
  },
  {
   "cell_type": "code",
   "execution_count": 15,
   "metadata": {},
   "outputs": [
    {
     "name": "stderr",
     "output_type": "stream",
     "text": [
      "[nltk_data] Downloading package vader_lexicon to\n",
      "[nltk_data]     /Users/georgethomas/nltk_data...\n",
      "[nltk_data]   Package vader_lexicon is already up-to-date!\n"
     ]
    }
   ],
   "source": [
    "from nltk.sentiment.vader import SentimentIntensityAnalyzer\n",
    "import nltk\n",
    "nltk.download('vader_lexicon')\n",
    "sid = SentimentIntensityAnalyzer()"
   ]
  },
  {
   "cell_type": "code",
   "execution_count": 16,
   "metadata": {},
   "outputs": [],
   "source": [
    "def vader_sentiment(review):\n",
    "    return round((sid.polarity_scores(review)['compound']*2)+3)"
   ]
  },
  {
   "cell_type": "markdown",
   "metadata": {},
   "source": [
    "#### Predict sentiments"
   ]
  },
  {
   "cell_type": "code",
   "execution_count": 17,
   "metadata": {},
   "outputs": [],
   "source": [
    "reviews_df['TextBlob_sentiment'] = (reviews_df['review_title'] + '. ' + reviews_df['review']).apply(lambda x: textblob_sentiment(x[:512]))\n",
    "reviews_df['VADER_sentiment'] = (reviews_df['review_title'] + '. ' + reviews_df['review']).apply(lambda x: vader_sentiment(x[:512]))"
   ]
  },
  {
   "cell_type": "code",
   "execution_count": 18,
   "metadata": {},
   "outputs": [
    {
     "data": {
      "text/html": [
       "<div>\n",
       "<style scoped>\n",
       "    .dataframe tbody tr th:only-of-type {\n",
       "        vertical-align: middle;\n",
       "    }\n",
       "\n",
       "    .dataframe tbody tr th {\n",
       "        vertical-align: top;\n",
       "    }\n",
       "\n",
       "    .dataframe thead th {\n",
       "        text-align: right;\n",
       "    }\n",
       "</style>\n",
       "<table border=\"1\" class=\"dataframe\">\n",
       "  <thead>\n",
       "    <tr style=\"text-align: right;\">\n",
       "      <th></th>\n",
       "      <th>review_date</th>\n",
       "      <th>user_rating</th>\n",
       "      <th>review_title</th>\n",
       "      <th>review</th>\n",
       "      <th>HF_BERT_sentiment</th>\n",
       "      <th>TextBlob_sentiment</th>\n",
       "      <th>VADER_sentiment</th>\n",
       "    </tr>\n",
       "  </thead>\n",
       "  <tbody>\n",
       "    <tr>\n",
       "      <th>0</th>\n",
       "      <td>31 July 2023</td>\n",
       "      <td>4</td>\n",
       "      <td>Timeless Charm, Excellent Service, Amazing Foo...</td>\n",
       "      <td>One of the oldest restaurants in town, I was i...</td>\n",
       "      <td>5</td>\n",
       "      <td>4</td>\n",
       "      <td>5</td>\n",
       "    </tr>\n",
       "    <tr>\n",
       "      <th>1</th>\n",
       "      <td>31 May 2023</td>\n",
       "      <td>5</td>\n",
       "      <td>Great place for non-veg Kerala food in Kozhiko...</td>\n",
       "      <td>Been here for breakfast and late lunch on our ...</td>\n",
       "      <td>5</td>\n",
       "      <td>3</td>\n",
       "      <td>5</td>\n",
       "    </tr>\n",
       "    <tr>\n",
       "      <th>2</th>\n",
       "      <td>15 May 2023</td>\n",
       "      <td>5</td>\n",
       "      <td>Best restaurant since 1939</td>\n",
       "      <td>Paragon is a Kozhikode institution with an unm...</td>\n",
       "      <td>5</td>\n",
       "      <td>4</td>\n",
       "      <td>5</td>\n",
       "    </tr>\n",
       "    <tr>\n",
       "      <th>3</th>\n",
       "      <td>26 April 2023</td>\n",
       "      <td>4</td>\n",
       "      <td>Very good to check out Indian cuisine</td>\n",
       "      <td>Indeed very good food (at a price). Went here ...</td>\n",
       "      <td>5</td>\n",
       "      <td>4</td>\n",
       "      <td>5</td>\n",
       "    </tr>\n",
       "    <tr>\n",
       "      <th>4</th>\n",
       "      <td>1 April 2023</td>\n",
       "      <td>2</td>\n",
       "      <td>Lunch at Paragon Kozhikkode</td>\n",
       "      <td>Went for lunch with family . A very crowded pl...</td>\n",
       "      <td>3</td>\n",
       "      <td>3</td>\n",
       "      <td>4</td>\n",
       "    </tr>\n",
       "    <tr>\n",
       "      <th>...</th>\n",
       "      <td>...</td>\n",
       "      <td>...</td>\n",
       "      <td>...</td>\n",
       "      <td>...</td>\n",
       "      <td>...</td>\n",
       "      <td>...</td>\n",
       "      <td>...</td>\n",
       "    </tr>\n",
       "    <tr>\n",
       "      <th>295</th>\n",
       "      <td>6 September 2017</td>\n",
       "      <td>5</td>\n",
       "      <td>Re - Paragon Calicut</td>\n",
       "      <td>Ambiance is good and staff is courteous same a...</td>\n",
       "      <td>4</td>\n",
       "      <td>4</td>\n",
       "      <td>5</td>\n",
       "    </tr>\n",
       "    <tr>\n",
       "      <th>296</th>\n",
       "      <td>6 September 2017</td>\n",
       "      <td>5</td>\n",
       "      <td>Superb quality food</td>\n",
       "      <td>My target was to have a great lunch \"non-veg b...</td>\n",
       "      <td>5</td>\n",
       "      <td>3</td>\n",
       "      <td>5</td>\n",
       "    </tr>\n",
       "    <tr>\n",
       "      <th>297</th>\n",
       "      <td>6 September 2017</td>\n",
       "      <td>3</td>\n",
       "      <td>Good non veg restaurant</td>\n",
       "      <td>This is a very famous and old and we'll establ...</td>\n",
       "      <td>4</td>\n",
       "      <td>4</td>\n",
       "      <td>5</td>\n",
       "    </tr>\n",
       "    <tr>\n",
       "      <th>298</th>\n",
       "      <td>6 September 2017</td>\n",
       "      <td>5</td>\n",
       "      <td>Lovely food</td>\n",
       "      <td>Very interesting unique food.it is really good...</td>\n",
       "      <td>5</td>\n",
       "      <td>4</td>\n",
       "      <td>5</td>\n",
       "    </tr>\n",
       "    <tr>\n",
       "      <th>299</th>\n",
       "      <td>6 September 2017</td>\n",
       "      <td>5</td>\n",
       "      <td>Home away from Home</td>\n",
       "      <td>One can feel that you have reached the right p...</td>\n",
       "      <td>5</td>\n",
       "      <td>4</td>\n",
       "      <td>5</td>\n",
       "    </tr>\n",
       "  </tbody>\n",
       "</table>\n",
       "<p>300 rows × 7 columns</p>\n",
       "</div>"
      ],
      "text/plain": [
       "          review_date  user_rating  \\\n",
       "0        31 July 2023            4   \n",
       "1         31 May 2023            5   \n",
       "2         15 May 2023            5   \n",
       "3       26 April 2023            4   \n",
       "4        1 April 2023            2   \n",
       "..                ...          ...   \n",
       "295  6 September 2017            5   \n",
       "296  6 September 2017            5   \n",
       "297  6 September 2017            3   \n",
       "298  6 September 2017            5   \n",
       "299  6 September 2017            5   \n",
       "\n",
       "                                          review_title  \\\n",
       "0    Timeless Charm, Excellent Service, Amazing Foo...   \n",
       "1    Great place for non-veg Kerala food in Kozhiko...   \n",
       "2                           Best restaurant since 1939   \n",
       "3                Very good to check out Indian cuisine   \n",
       "4                         Lunch at Paragon Kozhikkode    \n",
       "..                                                 ...   \n",
       "295                               Re - Paragon Calicut   \n",
       "296                                Superb quality food   \n",
       "297                            Good non veg restaurant   \n",
       "298                                        Lovely food   \n",
       "299                                Home away from Home   \n",
       "\n",
       "                                                review  HF_BERT_sentiment  \\\n",
       "0    One of the oldest restaurants in town, I was i...                  5   \n",
       "1    Been here for breakfast and late lunch on our ...                  5   \n",
       "2    Paragon is a Kozhikode institution with an unm...                  5   \n",
       "3    Indeed very good food (at a price). Went here ...                  5   \n",
       "4    Went for lunch with family . A very crowded pl...                  3   \n",
       "..                                                 ...                ...   \n",
       "295  Ambiance is good and staff is courteous same a...                  4   \n",
       "296  My target was to have a great lunch \"non-veg b...                  5   \n",
       "297  This is a very famous and old and we'll establ...                  4   \n",
       "298  Very interesting unique food.it is really good...                  5   \n",
       "299  One can feel that you have reached the right p...                  5   \n",
       "\n",
       "     TextBlob_sentiment  VADER_sentiment  \n",
       "0                     4                5  \n",
       "1                     3                5  \n",
       "2                     4                5  \n",
       "3                     4                5  \n",
       "4                     3                4  \n",
       "..                  ...              ...  \n",
       "295                   4                5  \n",
       "296                   3                5  \n",
       "297                   4                5  \n",
       "298                   4                5  \n",
       "299                   4                5  \n",
       "\n",
       "[300 rows x 7 columns]"
      ]
     },
     "execution_count": 18,
     "metadata": {},
     "output_type": "execute_result"
    }
   ],
   "source": [
    "reviews_df"
   ]
  },
  {
   "cell_type": "markdown",
   "metadata": {},
   "source": [
    "### Performance Evaluation"
   ]
  },
  {
   "cell_type": "code",
   "execution_count": 19,
   "metadata": {},
   "outputs": [],
   "source": [
    "true_sentiments = reviews_df['user_rating']"
   ]
  },
  {
   "cell_type": "code",
   "execution_count": 20,
   "metadata": {},
   "outputs": [],
   "source": [
    "def performance_metrics(true_sentiments, predicted_sentiments):\n",
    "    # Calculate accuracy\n",
    "    accuracy = sum(1 for true, pred in zip(true_sentiments, predicted_sentiments) if true == pred) / len(true_sentiments)\n",
    "    print(\"Accuracy: {:.2f}\".format(accuracy))\n",
    "\n",
    "    # Calculate confusion matrix\n",
    "    cm = confusion_matrix(true_sentiments, predicted_sentiments)\n",
    "    print(\"Confusion Matrix:\")\n",
    "    print(cm)\n",
    "\n",
    "    # Calculate precision, recall, and F1-score\n",
    "    classification_rep = classification_report(true_sentiments, predicted_sentiments, zero_division=1)\n",
    "    print(\"Classification Report:\")\n",
    "    print(classification_rep)"
   ]
  },
  {
   "cell_type": "markdown",
   "metadata": {},
   "source": [
    "#### BERT Scores"
   ]
  },
  {
   "cell_type": "code",
   "execution_count": 21,
   "metadata": {},
   "outputs": [
    {
     "name": "stdout",
     "output_type": "stream",
     "text": [
      "Accuracy: 0.61\n",
      "Confusion Matrix:\n",
      "[[  7   0   2   0   0]\n",
      " [  0   2   1   0   0]\n",
      " [  0   5   2   5   1]\n",
      " [  2   2  11  29  45]\n",
      " [  2   1   4  37 142]]\n",
      "Classification Report:\n",
      "              precision    recall  f1-score   support\n",
      "\n",
      "           1       0.64      0.78      0.70         9\n",
      "           2       0.20      0.67      0.31         3\n",
      "           3       0.10      0.15      0.12        13\n",
      "           4       0.41      0.33      0.36        89\n",
      "           5       0.76      0.76      0.76       186\n",
      "\n",
      "    accuracy                           0.61       300\n",
      "   macro avg       0.42      0.54      0.45       300\n",
      "weighted avg       0.61      0.61      0.61       300\n",
      "\n"
     ]
    }
   ],
   "source": [
    "performance_metrics(true_sentiments, reviews_df['HF_BERT_sentiment'])"
   ]
  },
  {
   "cell_type": "markdown",
   "metadata": {},
   "source": [
    "#### TextBlob Scores"
   ]
  },
  {
   "cell_type": "code",
   "execution_count": 22,
   "metadata": {},
   "outputs": [
    {
     "name": "stdout",
     "output_type": "stream",
     "text": [
      "Accuracy: 0.25\n",
      "Confusion Matrix:\n",
      "[[  0   4   3   2   0]\n",
      " [  0   0   2   1   0]\n",
      " [  0   1   7   4   1]\n",
      " [  0   1  28  54   6]\n",
      " [  0   2  45 126  13]]\n",
      "Classification Report:\n",
      "              precision    recall  f1-score   support\n",
      "\n",
      "           1       1.00      0.00      0.00         9\n",
      "           2       0.00      0.00      1.00         3\n",
      "           3       0.08      0.54      0.14        13\n",
      "           4       0.29      0.61      0.39        89\n",
      "           5       0.65      0.07      0.13       186\n",
      "\n",
      "    accuracy                           0.25       300\n",
      "   macro avg       0.40      0.24      0.33       300\n",
      "weighted avg       0.52      0.25      0.21       300\n",
      "\n"
     ]
    }
   ],
   "source": [
    "performance_metrics(true_sentiments, reviews_df['TextBlob_sentiment'])"
   ]
  },
  {
   "cell_type": "markdown",
   "metadata": {},
   "source": [
    "#### VADER Scores"
   ]
  },
  {
   "cell_type": "code",
   "execution_count": 23,
   "metadata": {},
   "outputs": [
    {
     "name": "stdout",
     "output_type": "stream",
     "text": [
      "Accuracy: 0.52\n",
      "Confusion Matrix:\n",
      "[[  2   6   0   1   0]\n",
      " [  0   1   1   1   0]\n",
      " [  1   0   4   4   4]\n",
      " [  0   3   9  21  56]\n",
      " [  0   3   8  48 127]]\n",
      "Classification Report:\n",
      "              precision    recall  f1-score   support\n",
      "\n",
      "           1       0.67      0.22      0.33         9\n",
      "           2       0.08      0.33      0.12         3\n",
      "           3       0.18      0.31      0.23        13\n",
      "           4       0.28      0.24      0.26        89\n",
      "           5       0.68      0.68      0.68       186\n",
      "\n",
      "    accuracy                           0.52       300\n",
      "   macro avg       0.38      0.36      0.32       300\n",
      "weighted avg       0.53      0.52      0.52       300\n",
      "\n"
     ]
    }
   ],
   "source": [
    "performance_metrics(true_sentiments, reviews_df['VADER_sentiment'])"
   ]
  },
  {
   "cell_type": "markdown",
   "metadata": {},
   "source": [
    "### Plots"
   ]
  },
  {
   "cell_type": "code",
   "execution_count": 24,
   "metadata": {},
   "outputs": [
    {
     "data": {
      "text/plain": [
       "<Axes: title={'center': 'Actual user rating'}, xlabel='user_rating'>"
      ]
     },
     "execution_count": 24,
     "metadata": {},
     "output_type": "execute_result"
    },
    {
     "data": {
      "image/png": "[encoded data removed]",
      "text/plain": [
       "<Figure size 1000x500 with 1 Axes>"
      ]
     },
     "metadata": {},
     "output_type": "display_data"
    }
   ],
   "source": [
    "reviews_df['user_rating'].value_counts().sort_index().plot(kind='bar', title='Actual user rating', figsize=(10,5))"
   ]
  },
  {
   "cell_type": "code",
   "execution_count": 25,
   "metadata": {},
   "outputs": [
    {
     "data": {
      "image/png": "[encoded data removed]",
      "text/plain": [
       "<Figure size 1500x500 with 3 Axes>"
      ]
     },
     "metadata": {},
     "output_type": "display_data"
    }
   ],
   "source": [
    "fig, axes = plt.subplots(1, 3, figsize=(15, 5))\n",
    "\n",
    "axes[0].bar(reviews_df['HF_BERT_sentiment'].value_counts().sort_index().index, \n",
    "            reviews_df['HF_BERT_sentiment'].value_counts().sort_index().values)\n",
    "axes[0].set_title('Bert Sentiment Analysis')\n",
    "\n",
    "axes[1].bar(reviews_df['TextBlob_sentiment'].value_counts().sort_index().index, \n",
    "            reviews_df['TextBlob_sentiment'].value_counts().sort_index().values)\n",
    "axes[1].set_title('TextBlob Sentiment Analysis')\n",
    "\n",
    "axes[2].bar(reviews_df['VADER_sentiment'].value_counts().sort_index().index, \n",
    "            reviews_df['VADER_sentiment'].value_counts().sort_index().values)\n",
    "axes[2].set_title('VADER Sentiment Analysis')\n",
    "\n",
    "plt.tight_layout()\n",
    "plt.show()"
   ]
  }
 ],
 "metadata": {
  "kernelspec": {
   "display_name": ".venv",
   "language": "python",
   "name": "python3"
  },
  "language_info": {
   "codemirror_mode": {
    "name": "ipython",
    "version": 3
   },
   "file_extension": ".py",
   "mimetype": "text/x-python",
   "name": "python",
   "nbconvert_exporter": "python",
   "pygments_lexer": "ipython3",
   "version": "3.9.16"
  },
  "orig_nbformat": 4
 },
 "nbformat": 4,
 "nbformat_minor": 2
}
